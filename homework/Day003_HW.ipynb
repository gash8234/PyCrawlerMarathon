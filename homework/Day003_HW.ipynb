{
 "cells": [
  {
   "cell_type": "markdown",
   "metadata": {},
   "source": [
    "# Python 下載XML檔案與解析\n",
    "\n",
    "\n",
    "* 了解 xml 檔案格式與內容\n",
    "* 能夠利用套件存取 xml 格式的檔案\n"
   ]
  },
  {
   "cell_type": "markdown",
   "metadata": {},
   "source": [
    "## 作業目標\n",
    "\n",
    "* 比較一下範例檔案中的「File I/O」與「xmltodict」讀出來的內容有什麼差異\n",
    "\n",
    "* 根據範例檔案的結果：\n",
    "    1. 請問高雄市有多少地區有溫度資料？\n",
    "    2. 請取出每一個地區所記錄的第一個時間點跟溫度\n",
    "    3. 請取出第一個地區所記錄的每一個時間點跟溫度"
   ]
  },
  {
   "cell_type": "markdown",
   "metadata": {},
   "source": [
    "### 比較一下範例檔案中的「File I/O」與「xmltodict」讀出來的內容有什麼差異\n"
   ]
  },
  {
   "cell_type": "code",
   "execution_count": 2,
   "metadata": {
    "scrolled": true
   },
   "outputs": [
    {
     "data": {
      "text/plain": [
       "'\\nYour Code\\nxmltodict以資料標籤資訊夾住所存資訊\\n'"
      ]
     },
     "execution_count": 2,
     "metadata": {},
     "output_type": "execute_result"
    }
   ],
   "source": [
    "'''\n",
    "Your Code\n",
    "xmltodict以資料標籤資訊夾住所存資訊\n",
    "'''"
   ]
  },
  {
   "cell_type": "markdown",
   "metadata": {},
   "source": [
    "### 根據範例檔案的結果：\n",
    "\n",
    "1. 請問高雄市有多少地區有溫度資料？\n",
    "2. 請取出每一個地區所記錄的第一個時間點跟溫度\n",
    "3. 請取出第一個地區所記錄的每一個時間點跟溫度"
   ]
  },
  {
   "cell_type": "code",
   "execution_count": 168,
   "metadata": {},
   "outputs": [
    {
     "name": "stdout",
     "output_type": "stream",
     "text": [
      "38\n"
     ]
    }
   ],
   "source": [
    "# 1. 請問高雄市有多少地區有溫度資料？\n",
    "\n",
    "'''\n",
    "Your Code\n",
    "'''\n",
    "from xml.dom import minidom\n",
    "\n",
    "dom = minidom.parse(\"./data/64_72HR_CH.xml\")  #to open xml file                 \n",
    "lc = dom.getElementsByTagName(\"locationName\") #to choose a class of Tag (獲取所由相同tag的表)\n",
    "print(len(lc))\n",
    "\n",
    "\n",
    "##題目到此而已，以下為其他用法介紹\n",
    "###way 1 , minidom\n",
    "#for locationName in lc :                      #將lc表中資料一一讀出\n",
    "#    print(locationName.childNodes[0].data)    #child : 此tag之內部節點 \n",
    "   \n",
    "#root = dom.documentElement                    #找出根目錄\n",
    "#print(root.getAttribute(\"xmlns\"))             #此目錄之屬性(包在<>中的)\n",
    "\n",
    "#lc = dom.getElementsByTagName(\"datasetInfo\")[0]\n",
    "#print(lc.childNodes)                          #發現換行也會是一個element\n",
    "#print(lc.childNodes[3].childNodes[0].data)\n",
    "#print(\"\\n\\n\")\n",
    "\n",
    "###way 2 , element tree ***檔案太大會不能用，要想別的辦法...\n",
    "#import xml.etree.ElementTree as ET\n",
    "#tree = ET.parse(\"./sample.xml\")       #將xml建成tree\n",
    "#root = tree.getroot()                 #取得root\n",
    "#print(root[2][0].tag , root[2][0].attrib)  #直接以tree搜尋,print 出tag,attribe\n",
    "\n",
    "#for Chapter in root.iter('Chapter') : #搜尋所有子集合、子集合的子集合...是否有此標籤tag\n",
    "#    print(Chapter.text)               \n",
    "\n",
    "#for Chapters in root.findall('Chapters') :        #搜尋一層子集合是否有標籤tag\n",
    "#    print(Chapters.find('Chapter').text)          #找出此集合下一層子集合標籤(莫認為第一個)\n",
    "#    for Chapter in Chapters.findall('Chapter') : \n",
    "#        name = Chapter.get(\"name\")                #找出此集合中的attrib(<>內)\n",
    "#        print(name,Chapter.text)\n",
    "\n",
    "###way 3 , xmltodict\n",
    "import xmltodict\n",
    "\n",
    "with open('./sample.xml' , encoding='utf-8') as fd :     #open file and transfer to dict\n",
    "    doc=dict(xmltodict.parse(fd.read()))\n",
    "\n",
    "# '@attribute_name' --> show attribute_name's value\n",
    "# '#text' --> show data inside tage\n",
    "#print(doc['CUPOY']['Chapters']['Chapter'][0]['@name'])   #use dict to go inside subcollection\n",
    "#print(doc['CUPOY']['Chapters']['Chapter'][1]['#text'])   #if there are same tags in on collection, need assign which you want. \n",
    "\n",
    "#for Chapter in doc['CUPOY']['Chapters']['Chapter'] :     #use for loop to see every same tags in one collection\n",
    "#    print(Chapter['@name'] , Chapter['#text'])"
   ]
  },
  {
   "cell_type": "code",
   "execution_count": 169,
   "metadata": {
    "scrolled": true
   },
   "outputs": [
    {
     "name": "stdout",
     "output_type": "stream",
     "text": [
      "地區 :  鹽埕區  / 時間 :  2020-10-30T18:00:00+08:00  / 溫度 :  27\n",
      "地區 :  鼓山區  / 時間 :  2020-10-30T18:00:00+08:00  / 溫度 :  27\n",
      "地區 :  左營區  / 時間 :  2020-10-30T18:00:00+08:00  / 溫度 :  27\n",
      "地區 :  楠梓區  / 時間 :  2020-10-30T18:00:00+08:00  / 溫度 :  27\n",
      "地區 :  三民區  / 時間 :  2020-10-30T18:00:00+08:00  / 溫度 :  27\n",
      "地區 :  新興區  / 時間 :  2020-10-30T18:00:00+08:00  / 溫度 :  27\n",
      "地區 :  前金區  / 時間 :  2020-10-30T18:00:00+08:00  / 溫度 :  27\n",
      "地區 :  苓雅區  / 時間 :  2020-10-30T18:00:00+08:00  / 溫度 :  27\n",
      "地區 :  前鎮區  / 時間 :  2020-10-30T18:00:00+08:00  / 溫度 :  27\n",
      "地區 :  旗津區  / 時間 :  2020-10-30T18:00:00+08:00  / 溫度 :  26\n",
      "地區 :  小港區  / 時間 :  2020-10-30T18:00:00+08:00  / 溫度 :  27\n",
      "地區 :  鳳山區  / 時間 :  2020-10-30T18:00:00+08:00  / 溫度 :  27\n",
      "地區 :  林園區  / 時間 :  2020-10-30T18:00:00+08:00  / 溫度 :  27\n",
      "地區 :  大寮區  / 時間 :  2020-10-30T18:00:00+08:00  / 溫度 :  27\n",
      "地區 :  大樹區  / 時間 :  2020-10-30T18:00:00+08:00  / 溫度 :  27\n",
      "地區 :  大社區  / 時間 :  2020-10-30T18:00:00+08:00  / 溫度 :  27\n",
      "地區 :  仁武區  / 時間 :  2020-10-30T18:00:00+08:00  / 溫度 :  27\n",
      "地區 :  鳥松區  / 時間 :  2020-10-30T18:00:00+08:00  / 溫度 :  28\n",
      "地區 :  岡山區  / 時間 :  2020-10-30T18:00:00+08:00  / 溫度 :  27\n",
      "地區 :  橋頭區  / 時間 :  2020-10-30T18:00:00+08:00  / 溫度 :  27\n",
      "地區 :  燕巢區  / 時間 :  2020-10-30T18:00:00+08:00  / 溫度 :  26\n",
      "地區 :  田寮區  / 時間 :  2020-10-30T18:00:00+08:00  / 溫度 :  25\n",
      "地區 :  阿蓮區  / 時間 :  2020-10-30T18:00:00+08:00  / 溫度 :  25\n",
      "地區 :  路竹區  / 時間 :  2020-10-30T18:00:00+08:00  / 溫度 :  26\n",
      "地區 :  湖內區  / 時間 :  2020-10-30T18:00:00+08:00  / 溫度 :  26\n",
      "地區 :  茄萣區  / 時間 :  2020-10-30T18:00:00+08:00  / 溫度 :  26\n",
      "地區 :  永安區  / 時間 :  2020-10-30T18:00:00+08:00  / 溫度 :  26\n",
      "地區 :  彌陀區  / 時間 :  2020-10-30T18:00:00+08:00  / 溫度 :  26\n",
      "地區 :  梓官區  / 時間 :  2020-10-30T18:00:00+08:00  / 溫度 :  26\n",
      "地區 :  旗山區  / 時間 :  2020-10-30T18:00:00+08:00  / 溫度 :  26\n",
      "地區 :  美濃區  / 時間 :  2020-10-30T18:00:00+08:00  / 溫度 :  26\n",
      "地區 :  六龜區  / 時間 :  2020-10-30T18:00:00+08:00  / 溫度 :  24\n",
      "地區 :  甲仙區  / 時間 :  2020-10-30T18:00:00+08:00  / 溫度 :  24\n",
      "地區 :  杉林區  / 時間 :  2020-10-30T18:00:00+08:00  / 溫度 :  25\n",
      "地區 :  內門區  / 時間 :  2020-10-30T18:00:00+08:00  / 溫度 :  25\n",
      "地區 :  茂林區  / 時間 :  2020-10-30T18:00:00+08:00  / 溫度 :  24\n",
      "地區 :  桃源區  / 時間 :  2020-10-30T18:00:00+08:00  / 溫度 :  22\n",
      "地區 :  那瑪夏區  / 時間 :  2020-10-30T18:00:00+08:00  / 溫度 :  20\n"
     ]
    }
   ],
   "source": [
    "# 2. 請取出每一個地區所記錄的第一個時間點跟溫度\n",
    "\n",
    "'''\n",
    "Your Code\n",
    "'''\n",
    "from xml.dom import minidom\n",
    "dom = minidom.parse(\"./data/64_72HR_CH.xml\")\n",
    "lc = dom.getElementsByTagName(\"location\")\n",
    "\n",
    "for location in lc :\n",
    "    loc = location.getElementsByTagName(\"locationName\")\n",
    "    time = location.getElementsByTagName(\"dataTime\")[0]\n",
    "    temp = location.getElementsByTagName(\"value\")[0]\n",
    "    #print(\"時間 : \" time.childNodes[0].data , \"溫度 : \" temp.childNodes[0].data)\n",
    "    print(\"地區 : \" , loc[0].childNodes[0].data ,\" / 時間 : \" ,time.childNodes[0].data ,\" / 溫度 : \" ,temp.childNodes[0].data )"
   ]
  },
  {
   "cell_type": "code",
   "execution_count": 170,
   "metadata": {},
   "outputs": [
    {
     "name": "stdout",
     "output_type": "stream",
     "text": [
      "時間 :  2020-10-30T18:00:00+08:00  / 溫度 :  27\n",
      "時間 :  2020-10-30T21:00:00+08:00  / 溫度 :  26\n",
      "時間 :  2020-10-31T00:00:00+08:00  / 溫度 :  25\n",
      "時間 :  2020-10-31T03:00:00+08:00  / 溫度 :  24\n",
      "時間 :  2020-10-31T06:00:00+08:00  / 溫度 :  23\n",
      "時間 :  2020-10-31T09:00:00+08:00  / 溫度 :  25\n",
      "時間 :  2020-10-31T12:00:00+08:00  / 溫度 :  28\n",
      "時間 :  2020-10-31T15:00:00+08:00  / 溫度 :  28\n",
      "時間 :  2020-10-31T18:00:00+08:00  / 溫度 :  26\n",
      "時間 :  2020-10-31T21:00:00+08:00  / 溫度 :  25\n",
      "時間 :  2020-11-01T00:00:00+08:00  / 溫度 :  24\n",
      "時間 :  2020-11-01T03:00:00+08:00  / 溫度 :  24\n",
      "時間 :  2020-11-01T06:00:00+08:00  / 溫度 :  23\n",
      "時間 :  2020-11-01T09:00:00+08:00  / 溫度 :  25\n",
      "時間 :  2020-11-01T12:00:00+08:00  / 溫度 :  29\n",
      "時間 :  2020-11-01T15:00:00+08:00  / 溫度 :  29\n",
      "時間 :  2020-11-01T18:00:00+08:00  / 溫度 :  28\n",
      "時間 :  2020-11-01T21:00:00+08:00  / 溫度 :  26\n",
      "時間 :  2020-11-02T00:00:00+08:00  / 溫度 :  26\n",
      "時間 :  2020-11-02T03:00:00+08:00  / 溫度 :  25\n",
      "時間 :  2020-11-02T06:00:00+08:00  / 溫度 :  24\n",
      "時間 :  2020-11-02T09:00:00+08:00  / 溫度 :  26\n",
      "時間 :  2020-11-02T12:00:00+08:00  / 溫度 :  29\n",
      "時間 :  2020-11-02T15:00:00+08:00  / 溫度 :  29\n"
     ]
    }
   ],
   "source": [
    "# 3. 請取出第一個地區所記錄的每一個時間點跟溫度\n",
    "\n",
    "'''\n",
    "Your Code\n",
    "'''\n",
    "from xml.dom import minidom\n",
    "dom = minidom.parse(\"./data/64_72HR_CH.xml\")\n",
    "lc = dom.getElementsByTagName(\"location\")[0]\n",
    "weather = lc.getElementsByTagName(\"weatherElement\")[0]\n",
    "\n",
    "for time in weather.getElementsByTagName(\"time\"):\n",
    "    times = time.getElementsByTagName(\"dataTime\")[0]\n",
    "    temps = time.getElementsByTagName(\"value\")[0]\n",
    "    print(\"時間 : \" ,times.childNodes[0].data ,\" / 溫度 : \" ,temps.childNodes[0].data )"
   ]
  },
  {
   "cell_type": "code",
   "execution_count": null,
   "metadata": {},
   "outputs": [],
   "source": []
  }
 ],
 "metadata": {
  "kernelspec": {
   "display_name": "Python 3",
   "language": "python",
   "name": "python3"
  },
  "language_info": {
   "codemirror_mode": {
    "name": "ipython",
    "version": 3
   },
   "file_extension": ".py",
   "mimetype": "text/x-python",
   "name": "python",
   "nbconvert_exporter": "python",
   "pygments_lexer": "ipython3",
   "version": "3.7.9"
  }
 },
 "nbformat": 4,
 "nbformat_minor": 2
}
