{
 "cells": [
  {
   "cell_type": "markdown",
   "metadata": {},
   "source": [
    "# PTT 網路爬蟲實作練習\n",
    "\n",
    "\n",
    "* 能夠利用 Request + BeatifulSour 撰寫爬蟲，並存放到合適的資料結構\n"
   ]
  },
  {
   "cell_type": "markdown",
   "metadata": {},
   "source": [
    "## 作業目標\n",
    "\n",
    "根據範例 ，完成以下問題：\n",
    "\n",
    "* ① 印出最新文章的「作者」「標題」「時間」\n",
    "* ② 印出第一頁所有文章的「作者」「標題」「時間」\n"
   ]
  },
  {
   "cell_type": "markdown",
   "metadata": {},
   "source": [
    "### ① 印出最新文章的「作者」「標題」「時間」"
   ]
  },
  {
   "cell_type": "code",
   "execution_count": 19,
   "metadata": {
    "scrolled": true
   },
   "outputs": [
    {
     "name": "stdout",
     "output_type": "stream",
     "text": [
      "\n",
      "\n",
      "KyrieIrving1 (King of New York)\n",
      "[花邊] KD：如果替補出戰投籃狀態不佳，我可能會\n",
      "Mon Apr 26 12:36:28 2021\n",
      "\n",
      "\n",
      "pneumo (超☆冒險蓋)\n",
      "Re: [花邊] Oubre在Lowry罰球時干擾 \n",
      "Mon Apr 26 12:47:28 2021\n",
      "\n",
      "\n",
      "GhostFather (鬼父Oni Chichi)\n",
      "[新聞] 拓荒者5連敗！里拉德直言「不要自以為是\n",
      "Mon Apr 26 12:49:33 2021\n",
      "\n",
      "\n",
      "thnlkj0665 (灰色地帶)\n",
      "[情報] Stephen Curry 刷新單月最多三分進球紀錄\n",
      "Mon Apr 26 12:58:37 2021\n",
      "\n",
      "\n",
      "\n",
      "\n",
      "XperiaZ6C (索尼)\n",
      "[新聞] 籃網「7-11連線」　葛里芬好輕鬆：球給\n",
      "Mon Apr 26 13:24:21 2021\n",
      "\n",
      "\n",
      "mingonly (字母鋼)\n",
      "[花邊] Tim Duncan 45歲生日\n",
      "Mon Apr 26 13:38:07 2021\n",
      "\n",
      "\n",
      "a000703 (^^)\n",
      "[討論]湖人今年不太可能再次打進總冠軍賽嗎?\n",
      "Mon Apr 26 13:59:42 2021\n",
      "\n",
      "\n",
      "nwd4e9cd (冒泡泡~泡泡！)\n",
      "[情報] 本季目前場均個人數據前10整理\n",
      "Mon Apr 26 15:06:18 2021\n",
      "\n",
      "\n",
      "tmacai0103 (白色巧克力)\n",
      "[討論] 拓荒者有想贏球嗎？\n",
      "Mon Apr 26 15:10:36 2021\n",
      "\n",
      "\n",
      "jk182325 (萬里花我老婆)\n",
      "[新聞] NBA／加入暴龍時受對方關照 林書豪感謝尚\n",
      "Mon Apr 26 15:37:53 2021\n",
      "\n",
      "\n",
      "TeacherLin (林老師)\n",
      "[新聞] 驚!魔術菜鳥開放性骨折 隊友暖心脫衣蓋傷口\n",
      "Mon Apr 26 16:16:03 2021\n",
      "\n",
      "\n",
      "\n",
      "\n",
      "\n",
      "\n",
      "\n",
      "\n",
      "laptic (靜夜聖林彼岸花)\n",
      "[情報] SEASON Schedule 賽程 April 20–21\n",
      "Sun Mar 28 13:54:20 2021\n",
      "\n",
      "\n"
     ]
    }
   ],
   "source": [
    "'''\n",
    "Your Code\n",
    "'''\n",
    "import requests\n",
    "from bs4 import BeautifulSoup\n",
    "\n",
    "url = 'https://www.ptt.cc/bbs/NBA/index.html'\n",
    "r = requests.get(url)\n",
    "\n",
    "soup = BeautifulSoup(r.text, \"html5lib\")\n",
    "\n",
    "\n",
    "for d in soup.find(class_=\"r-list-container\").find_all(class_=\"r-ent\"):\n",
    "    try :\n",
    "        r=requests.get('https://www.ptt.cc'+d.find(class_=\"title\").find('a')['href'])\n",
    "        bs = BeautifulSoup(r.text, \"html5lib\")\n",
    "        for b in bs.find(id=\"main-content\").find_all(class_=\"article-metaline\"):\n",
    "            print(b.find(class_=\"article-meta-value\").text)\n",
    "        print(\"\\n\")\n",
    "    except:\n",
    "        continue\n",
    "    #print(\"Author: \"  , \"\\tDate: \" , d.find(class_='title').text.replace('\\t', '').replace('\\n', ''))\n",
    "    "
   ]
  },
  {
   "cell_type": "markdown",
   "metadata": {},
   "source": [
    "### ② 印出第一頁所有文章的「作者」「標題」「時間」"
   ]
  },
  {
   "cell_type": "code",
   "execution_count": 3,
   "metadata": {},
   "outputs": [
    {
     "name": "stdout",
     "output_type": "stream",
     "text": [
      "Author:  Price \tDate:   5/16 [轉錄]Lyotard 對於太陽板討論串的結論\n",
      "Author:  Price \tDate:   5/31 [公告] 請停止一切關於本次活動的發言\n",
      "Author:  Frankaze \tDate:   6/08 [轉錄]跟之前那篇比起來 我覺得這篇也應該轉過來\n",
      "Author:  Frankaze \tDate:   6/08 [轉錄]再轉一篇好文來\n",
      "Author:  Price \tDate:   6/10 [轉錄][情報] 夏洛特山貓系列\n",
      "Author:  Price \tDate:   6/10 [轉錄]Re: [心得] 真是受不了糗爺....\n",
      "Author:  Price \tDate:   6/10 [轉錄]總冠軍賽NO.2觀後感\n",
      "Author:  AmuroNamie \tDate:   6/11 [心得] Rasheed Wallace\n",
      "Author:  toptree \tDate:   6/12 掌控球賽的男人\n",
      "Author:  skchang \tDate:   6/12 [閒聊] 說說2004季後賽名場面回顧\n",
      "Author:  shineup \tDate:   6/12 [心得] 其實說穿了 就是活塞的防守太可怕了\n",
      "Author:  cOvi \tDate:   6/12 Re: [閒聊] 說說2004季後賽名場面回顧\n",
      "Author:  ykshih \tDate:   6/12 Re: [閒聊] 說說2004季後賽名場面回顧\n",
      "Author:  Frankaze \tDate:   6/12 Re: [閒聊] 說說2004季後賽名場面回顧\n",
      "Author:  Price \tDate:   6/14 [轉錄]Re: 總冠軍賽NO.3觀後感\n",
      "Author:  Frankaze \tDate:   6/14 [轉錄]Re: 總冠軍賽NO.3觀後感\n",
      "Author:  star1 \tDate:   6/14 Re: [轉錄]Re: 總冠軍賽NO.3觀後感\n",
      "Author:  coldspring \tDate:   6/14 Re: [轉錄]Re: 總冠軍賽NO.3觀後感\n",
      "Author:  airbear \tDate:   6/14 Re: Kobe is frustrated...\n",
      "Author:  pennykidd \tDate:   6/14 Re: [轉錄]Re: 總冠軍賽NO.3觀後感\n"
     ]
    }
   ],
   "source": [
    "'''\n",
    "Your Code\n",
    "'''\n",
    "url = 'https://www.ptt.cc/bbs/NBA/index1.html'\n",
    "r = requests.get(url)\n",
    "\n",
    "soup = BeautifulSoup(r.text, \"html5lib\")\n",
    "\n",
    "\n",
    "for d in soup.find(class_=\"r-list-container\").find_all(class_=\"r-ent\"):\n",
    "    author = d.find(class_=\"author\").text\n",
    "    date = d.find(class_=\"date\").text\n",
    "    print(\"Author: \" , author  , \"\\tDate: \" , date , d.find(class_='title').text.replace('\\t', '').replace('\\n', ''))\n",
    "    "
   ]
  },
  {
   "cell_type": "markdown",
   "metadata": {},
   "source": [
    "### ③ 試著爬爬看其他版的文章"
   ]
  },
  {
   "cell_type": "code",
   "execution_count": 4,
   "metadata": {},
   "outputs": [
    {
     "name": "stdout",
     "output_type": "stream",
     "text": [
      "Author:  pnLin \tDate:   4/26 [選購] type c(dp 詢問）\n",
      "Author:  Ivanvan \tDate:   4/26 [賣/ 台北] Acer Swift 3 SF314-56G(藍)\n",
      "Author:  kikimo0704 \tDate:   4/26 [賣/台北] Lenovo Legion Y7000SE(1660Ti,暫售) \n",
      "Author:  maxkuso \tDate:   4/26 [討論] G14關機後電源燈恆亮\n",
      "Author:  goxty \tDate:   4/26 [選購] 股票機選購\n",
      "Author:  Gundam77 \tDate:   4/26 [選購] 女用商務網飛觸控筆電\n",
      "Author:  ken1215 \tDate:   4/26 [賣/新北] 售聯想小新AIR14 amd 4600u\n",
      "Author:  juchii \tDate:   4/26 [賣/彰化] Apple Macbook pro 13 A1502 \n",
      "Author:  Lesath \tDate:   4/26 [徵/台南/全國]ASUS P5440FF/P5440FA\n",
      "Author:  bkprt730 \tDate:   4/26 [情報] Zenbook 14 UM425U AMD\n",
      "Author:  timmy888 \tDate:   4/26 Re: [賣/雙北桃園] New surface pro i5/8g/256g含\n",
      "Author:  shuminkao \tDate:   4/26 [賣/新竹/竹北 ]Sony Vaio 13\" 白 筆記型電腦 \n",
      "Author:  cowboy66 \tDate:   4/26 [賣/台北西門北車/面交] ROG Zephyrus G14\n",
      "Author:  dhzzzj \tDate:  11/12 [公告] 非整台筆電買賣 零件區請於此PO \n",
      "Author:  anedo \tDate:   1/23 [公告] 詐騙與水貨與國外自用品相關事宜20200325\n",
      "Author:  dhzzzj \tDate:   7/22 [詢價] 未買卻想知道報價，請到這邊！！(基礎概念)\n",
      "Author:  anedo \tDate:   5/15 [公告] 筆電板現行版規 (20200906)V8.3\n",
      "Author:  anedo \tDate:   7/30 [公告] 本板重大通知 (8/1 1200實施)\n"
     ]
    }
   ],
   "source": [
    "'''\n",
    "Your Code\n",
    "'''\n",
    "url = 'https://www.ptt.cc/bbs/nb-shopping/index.html'\n",
    "r = requests.get(url)\n",
    "\n",
    "soup = BeautifulSoup(r.text, \"html5lib\")\n",
    "\n",
    "\n",
    "for d in soup.find(class_=\"r-list-container\").find_all(class_=\"r-ent\"):\n",
    "    author = d.find(class_=\"author\").text\n",
    "    date = d.find(class_=\"date\").text\n",
    "    print(\"Author: \" , author  , \"\\tDate: \" , date , d.find(class_='title').text.replace('\\t', '').replace('\\n', ''))\n",
    "    "
   ]
  },
  {
   "cell_type": "code",
   "execution_count": null,
   "metadata": {},
   "outputs": [],
   "source": []
  }
 ],
 "metadata": {
  "kernelspec": {
   "display_name": "Python 3",
   "language": "python",
   "name": "python3"
  },
  "language_info": {
   "codemirror_mode": {
    "name": "ipython",
    "version": 3
   },
   "file_extension": ".py",
   "mimetype": "text/x-python",
   "name": "python",
   "nbconvert_exporter": "python",
   "pygments_lexer": "ipython3",
   "version": "3.7.9"
  }
 },
 "nbformat": 4,
 "nbformat_minor": 2
}
