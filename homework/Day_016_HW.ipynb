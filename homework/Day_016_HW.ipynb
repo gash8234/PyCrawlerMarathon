{
 "cells": [
  {
   "cell_type": "markdown",
   "metadata": {},
   "source": [
    "# Wikipedia爬蟲練習\n",
    "## 範例：練習是從Wikipedia中爬取文章。先定義一個搜尋的關鍵字，擷取該關鍵字詞的文章。"
   ]
  },
  {
   "cell_type": "code",
   "execution_count": 104,
   "metadata": {},
   "outputs": [],
   "source": [
    "import requests\n",
    "import re\n",
    "from bs4 import BeautifulSoup"
   ]
  },
  {
   "cell_type": "markdown",
   "metadata": {},
   "source": [
    "### 先定義一個我們想搜尋的字詞，並將它轉換成UTF-8編碼後的URL"
   ]
  },
  {
   "cell_type": "code",
   "execution_count": 105,
   "metadata": {},
   "outputs": [
    {
     "name": "stdout",
     "output_type": "stream",
     "text": [
      "除數函數: %E9%99%A4%E6%95%B8%E5%87%BD%E6%95%B8\n",
      "/wiki/%E9%99%A4%E6%95%B8%E5%87%BD%E6%95%B8\n"
     ]
    }
   ],
   "source": [
    "input_keyword = \"除數函數\"  # 這裡可以自己定義有興趣的關鍵字\n",
    "\n",
    "utf8_url = repr(input_keyword.encode('UTF-8')).upper()  # 編碼成UTF-8並轉成大寫字元\n",
    "#print(utf8_url)\n",
    "utf8_url = utf8_url.replace(\"\\\\X\", \"%\")                 # 用 '%' 取代 '\\X' \n",
    "#print(utf8_url)\n",
    "print(\"%s: %s\" % (input_keyword, utf8_url[2:-1:1]))     # 擷取中間的編碼結果\n",
    "\n",
    "# 組成Wiki關鍵字搜尋的網址格式\n",
    "root_keyword_link = '/wiki/' + utf8_url[2:-1:1]\n",
    "print(root_keyword_link)"
   ]
  },
  {
   "cell_type": "markdown",
   "metadata": {},
   "source": [
    "### 範例1：送出關鍵字請求後，爬取該關鍵字的文章內容"
   ]
  },
  {
   "cell_type": "code",
   "execution_count": 106,
   "metadata": {},
   "outputs": [
    {
     "name": "stdout",
     "output_type": "stream",
     "text": [
      "在數論上，除數函數是一類算術函數。\n",
      "\n",
      "除數函數\n",
      "\n",
      "\n",
      "\n",
      "\n",
      "σ\n",
      "\n",
      "x\n",
      "\n",
      "\n",
      "(\n",
      "n\n",
      ")\n",
      "\n",
      "\n",
      "{\\displaystyle \\sigma _{x}(n)}\n",
      "\n",
      "定義為n的正因數的\n",
      "\n",
      "\n",
      "\n",
      "x\n",
      "\n",
      "\n",
      "{\\displaystyle x}\n",
      "\n",
      "次冪之和，即\n",
      "\n",
      "其中一些特殊情況：\n",
      "\n"
     ]
    }
   ],
   "source": [
    "# 模擬封包的標頭\n",
    "headers = {\n",
    "    'authority': 'zh.wikipedia.org',\n",
    "    'method': 'GET',\n",
    "    'path': root_keyword_link, ##需要wiki??\n",
    "    'scheme': 'https',\n",
    "    'accept': 'text/html,application/xhtml+xml,application/xml;q=0.9,image/webp,image/apng,*/*;q=0.8,application/signed-exchange;v=b3',\n",
    "    'accept-encoding': 'gzip, deflate, br',\n",
    "    'accept-language': 'zh-TW,zh;q=0.9,en-US;q=0.8,en;q=0.7,zh-CN;q=0.6',\n",
    "    'cookie': 'GeoIP=TW:TPE:Taipei:25.05:121.53:v4; TBLkisOn=0; mwPhp7Seed=8b8; WMF-Last-Access-Global=04-Jun-2019; WMF-Last-Access=04-Jun-2019',\n",
    "    'dnt': '1',\n",
    "    #'if-modified-since': 'Tue, 04 Jun 2019 12:03:22 GMT',\n",
    "    'referer': 'https://zh.wikipedia.org/wiki/Wikipedia:%E9%A6%96%E9%A1%B5',\n",
    "    'upgrade-insecure-requests': '1',\n",
    "    'user-agent': 'Mozilla/5.0 (Windows NT 10.0; Win64; x64) AppleWebKit/537.36 (KHTML, like Gecko) Chrome/74.0.3729.169 Safari/537.36'\n",
    "}    \n",
    "\n",
    "url = 'https://zh.wikipedia.org' + root_keyword_link  # 組合關鍵字查詢URL\n",
    "resp = requests.get(url, headers=headers)\n",
    "resp.encoding = 'utf-8'\n",
    "\n",
    "html = BeautifulSoup(resp.text, \"lxml\")\n",
    "content = html.find(name='div', attrs={'id':'mw-content-text'}).find_all(name='p')\n",
    "\n",
    "#\n",
    "# 解析回傳資料，並萃取文章內容\n",
    "#\n",
    "story=\"\"\n",
    "for paragraph in content:\n",
    "    print(paragraph.get_text())\n",
    "    #story=story+paragraph.get_text()\n",
    "\n",
    "#print(story)"
   ]
  },
  {
   "cell_type": "markdown",
   "metadata": {},
   "source": [
    "### 範例2：從爬取的文章內容中，擷取出有外部連結的關鍵字。這些關鍵字在文章中是以藍色字體顯示，會連到外部的網頁，並解釋其內容。"
   ]
  },
  {
   "cell_type": "code",
   "execution_count": 107,
   "metadata": {
    "scrolled": true
   },
   "outputs": [
    {
     "name": "stdout",
     "output_type": "stream",
     "text": [
      "外部連結: [數論] /wiki/%E6%95%B8%E8%AB%96\n",
      "外部連結: [算術函數] /wiki/%E7%AE%97%E8%A1%93%E5%87%BD%E6%95%B8\n"
     ]
    }
   ],
   "source": [
    "for ext_link in content:\n",
    "    a_tag = ext_link.find_all('a', href=re.compile(\"^(/wiki/)((?!;)\\S)*$\"))\n",
    "    if len(a_tag) > 0:\n",
    "        for link_string in a_tag:\n",
    "            a_link = link_string[\"href\"]       # 外部連結的網址\n",
    "            a_keyword = link_string.get_text()  # 外部連結的中文名稱\n",
    "            print(\"外部連結: [%s] %s\" % (a_keyword, a_link))"
   ]
  },
  {
   "cell_type": "markdown",
   "metadata": {},
   "source": [
    "## 作業：接下來定義一個爬蟲函數，這個函數的主要工作為：\n",
    "### (1) 爬取當前關鍵字的解釋，並存入檔案(因為文章內容太多會佔滿整個頁面，所以存程檔案，方便後續檢視)\n",
    "### (2) 萃取出當前關鍵字所引用的外部連結，當作新的查詢關鍵字\n",
    "### (3) 把第(2)擷取到的關鍵字當作新的關鍵字，回到第(1)步，爬取新的關鍵字解釋。"
   ]
  },
  {
   "cell_type": "code",
   "execution_count": 111,
   "metadata": {},
   "outputs": [],
   "source": [
    "def WikiArticle(key_word_link, key_word, recursive):\n",
    "    \n",
    "    \n",
    "    key_word=key_word.replace(\"/\",\"\")\n",
    "    if (recursive <= max_recursive_depth):\n",
    "        print(\"遞迴層[%d] - %s (%s)\" % (recursive, key_word_link, key_word))\n",
    "        \n",
    "        # 模擬封包的標頭\n",
    "        headers = {\n",
    "            'authority': 'zh.wikipedia.org',\n",
    "            'method': 'GET',\n",
    "            'path': '/wiki/' + key_word_link,\n",
    "            'scheme': 'https',\n",
    "            'accept': 'text/html,application/xhtml+xml,application/xml;q=0.9,image/webp,image/apng,*/*;q=0.8,application/signed-exchange;v=b3',\n",
    "            'accept-encoding': 'gzip, deflate, br',\n",
    "            'accept-language': 'zh-TW,zh;q=0.9,en-US;q=0.8,en;q=0.7,zh-CN;q=0.6',\n",
    "            'cookie': 'GeoIP=TW:TPE:Taipei:25.05:121.53:v4; TBLkisOn=0; mwPhp7Seed=8b8; WMF-Last-Access-Global=04-Jun-2019; WMF-Last-Access=04-Jun-2019',\n",
    "            'dnt': '1',\n",
    "            #'if-modified-since': 'Tue, 04 Jun 2019 12:03:22 GMT',\n",
    "            'referer': 'https://zh.wikipedia.org/wiki/Wikipedia:%E9%A6%96%E9%A1%B5',\n",
    "            'upgrade-insecure-requests': '1',\n",
    "            'user-agent': 'Mozilla/5.0 (Windows NT 10.0; Win64; x64) AppleWebKit/537.36 (KHTML, like Gecko) Chrome/74.0.3729.169 Safari/537.36'\n",
    "        }    \n",
    "\n",
    "        url = 'https://zh.wikipedia.org' + key_word_link  # 組合關鍵字查詢URL\n",
    "        resp = requests.get(url, headers=headers)\n",
    "        resp.encoding = 'utf-8'\n",
    "\n",
    "        html = BeautifulSoup(resp.text, \"lxml\")\n",
    "        content = html.find(name='div', attrs={'id':'mw-content-text'}).find_all(name='p')\n",
    "        \n",
    "        #\n",
    "        # Part 1: 請參考範例1，爬取當前關鍵字的文章內容。\n",
    "        #         因為內容太多，我們把它寫入檔案，並以關鍵字作為檔案名稱，以便稍後查閱內容。\n",
    "        #         請先建立一個名為\"WikiArticle\"的資料夾，爬取到的文章內容會放在這個資料夾底下。\n",
    "        #\n",
    "        '''\n",
    "        \n",
    "        Your code here\n",
    "        \n",
    "        '''\n",
    "        path = \"C:/Users/Yang/HW/D16_Wiki的爬蟲實作練習/WikiArticle\"\n",
    "        save_file = path + \"/rec\" + str(recursive) + \"__\" + str(key_word) + \".txt\"\n",
    "        story=\"\"\n",
    "        #for paragraph in content:\n",
    "        #    story=story+paragraph.get_text()\n",
    "        \n",
    "        #with open(save_file, \"w\",encoding=\"utf-8\") as text_file:\n",
    "        #    text_file.write(story)\n",
    "\n",
    "        \n",
    "        #\n",
    "        # Part 2: 請參考範例2，萃取出本篇文章中所延伸引用的外部連結，並儲存在external_link_dict\n",
    "        #\n",
    "        external_link_dict = dict({})\n",
    "        '''\n",
    "        \n",
    "        Your code here\n",
    "        \n",
    "        '''\n",
    "        for ext_link in content:\n",
    "            a_tag = ext_link.find_all('a', href=re.compile(\"^(/wiki/)((?!;)\\S)*$\"))\n",
    "            #print(a_tag)\n",
    "            if(len(a_tag)>0):\n",
    "                for links in a_tag:\n",
    "                    dict_T = {links['href']:links.get_text()}\n",
    "                    external_link_dict.update(dict_T)\n",
    "                    #print(dict_T)\n",
    "        #print(external_link_dict)\n",
    "        #\n",
    "        # Part 3: 將Part 2所收集的外部連結，當作新的關鍵字，繼續迭代深入爬蟲\n",
    "        #\n",
    "        if (len(external_link_dict) > 0):\n",
    "            recursive = recursive + 1  # 遞迴深度加1\n",
    "            for k, v in external_link_dict.items():\n",
    "                WikiArticle(k, v, recursive)  # 再次呼叫同樣的函數，執行同樣的流程\n",
    "            #print(external_link_dict.items())"
   ]
  },
  {
   "cell_type": "markdown",
   "metadata": {},
   "source": [
    "### 執行前個步驟定義好的爬蟲主程式"
   ]
  },
  {
   "cell_type": "code",
   "execution_count": 112,
   "metadata": {
    "scrolled": true
   },
   "outputs": [
    {
     "name": "stdout",
     "output_type": "stream",
     "text": [
      "遞迴層[0] - /wiki/%E9%99%A4%E6%95%B8%E5%87%BD%E6%95%B8 (除數函數)\n",
      "遞迴層[1] - /wiki/%E6%95%B8%E8%AB%96 (數論)\n",
      "遞迴層[2] - /wiki/%E7%BA%AF%E7%B2%B9%E6%95%B0%E5%AD%A6 (純粹數學)\n",
      "遞迴層[2] - /wiki/%E6%95%B4%E6%95%B0 (整數)\n",
      "遞迴層[2] - /wiki/%E8%B3%AA%E6%95%B8 (質數)\n",
      "遞迴層[2] - /wiki/%E5%90%88%E6%95%B0 (合數)\n",
      "遞迴層[2] - /wiki/1 (1)\n",
      "遞迴層[2] - /wiki/%E5%93%A5%E5%BE%B7%E5%B7%B4%E8%B5%AB%E7%8C%9C%E6%83%B3 (哥德巴赫猜想)\n",
      "遞迴層[2] - /wiki/%E5%AD%AA%E7%94%9F%E8%B4%A8%E6%95%B0%E7%8C%9C%E6%83%B3 (孿生質數猜想)\n",
      "遞迴層[2] - /wiki/%E6%9C%89%E7%90%86%E6%95%B8 (有理數)\n",
      "遞迴層[2] - /wiki/%E4%BB%A3%E6%95%B8%E6%95%B4%E6%95%B8 (代數整數)\n",
      "遞迴層[2] - /wiki/%E4%B8%9F%E7%95%AA%E5%9C%96%E6%96%B9%E7%A8%8B (丟番圖方程)\n",
      "遞迴層[2] - /wiki/%E8%A7%A3%E6%9E%90%E5%87%BD%E6%95%B8 (解析函數)\n",
      "遞迴層[2] - /wiki/%E9%BB%8E%E6%9B%BC%CE%B6%E5%87%BD%E6%95%B8 (黎曼ζ函數)\n",
      "遞迴層[2] - /wiki/%E4%B8%9F%E7%95%AA%E5%9C%96%E9%80%BC%E8%BF%91 (丟番圖逼近)\n",
      "遞迴層[2] - /wiki/%E7%AE%97%E8%A1%93 (算術)\n",
      "遞迴層[2] - /wiki/%E6%88%88%E5%BC%97%E9%9B%B7%C2%B7%E5%93%88%E7%BD%97%E5%BE%B7%C2%B7%E5%93%88%E4%BB%A3 (戈弗雷·哈羅德·哈代)\n",
      "遞迴層[2] - /wiki/%E6%84%9B%E5%BE%B7%E8%8F%AF%C2%B7%E6%A2%85%E7%89%B9%E8%98%AD%C2%B7%E8%B3%B4%E7%89%B9 (愛德華·梅特蘭·賴特)\n",
      "遞迴層[2] - /wiki/%E5%8D%A1%E5%B0%94%C2%B7%E5%BC%97%E9%87%8C%E5%BE%B7%E9%87%8C%E5%B8%8C%C2%B7%E9%AB%98%E6%96%AF (卡爾·弗里德里希·高斯)\n",
      "遞迴層[2] - /wiki/%E5%90%9B%E5%A3%AB%E5%9D%A6%E4%B8%81%E5%A0%A1 (君士坦丁堡)\n",
      "遞迴層[2] - /wiki/%E6%96%90%E6%B3%A2%E9%82%A3%E5%A5%91 (斐波那契)\n",
      "遞迴層[2] - /wiki/%E8%B4%B9%E9%A9%AC (費馬)\n",
      "遞迴層[2] - /wiki/%E9%A6%AC%E8%98%AD%C2%B7%E6%A2%85%E6%A3%AE (梅森)\n",
      "遞迴層[2] - /wiki/%E6%AC%A7%E6%8B%89 (歐拉)\n",
      "遞迴層[2] - /wiki/%E9%AB%98%E6%96%AF (高斯)\n",
      "遞迴層[2] - /wiki/%E5%8B%92%E8%AE%93%E5%BE%B7 (勒讓德)\n",
      "遞迴層[2] - /wiki/%E9%BB%8E%E6%9B%BC (黎曼)\n",
      "遞迴層[2] - /wiki/%E5%B8%8C%E5%B0%94%E4%BC%AF%E7%89%B9 (希爾伯特)\n",
      "遞迴層[2] - /wiki/%E6%96%87%E8%97%9D%E5%BE%A9%E8%88%88 (文藝復興)\n",
      "遞迴層[2] - /wiki/%E5%8F%A4%E5%B8%8C%E8%87%98 (古希臘)\n",
      "遞迴層[2] - /wiki/%E4%B8%A2%E7%95%AA%E5%9B%BE (丟番圖)\n",
      "遞迴層[2] - /wiki/%E6%8B%89%E4%B8%81%E6%96%87 (拉丁文)\n",
      "遞迴層[2] - /wiki/%E7%9A%AE%E5%9F%83%E7%88%BE%C2%B7%E5%BE%B7%C2%B7%E8%B2%BB%E9%A6%AC (皮埃爾·德·費馬)\n",
      "遞迴層[2] - /wiki/%E6%95%B8%E5%AD%B8%E6%AD%B8%E7%B4%8D%E6%B3%95 (數學歸納法)\n",
      "遞迴層[2] - /wiki/%E6%97%A0%E7%A9%B7%E9%80%92%E9%99%8D%E6%B3%95 (無窮遞降法)\n",
      "遞迴層[2] - /wiki/%E5%AE%8C%E5%85%A8%E6%95%B8 (完全數)\n",
      "遞迴層[2] - /wiki/%E7%9B%B8%E4%BA%B2%E6%95%B0 (相親數)\n",
      "遞迴層[2] - /wiki/%E5%9B%A0%E6%95%B8 (因數)\n",
      "遞迴層[2] - /wiki/%E5%B9%B3%E6%96%B9%E6%95%B8 (平方數)\n",
      "遞迴層[2] - /wiki/%E8%B2%BB%E9%A6%AC%E6%9C%80%E5%BE%8C%E5%AE%9A%E7%90%86 (費馬最後定理)\n",
      "遞迴層[2] - /wiki/%E5%AE%89%E5%BE%B7%E9%AD%AF%C2%B7%E6%87%B7%E7%88%BE%E6%96%AF (安德魯·懷爾斯)\n",
      "遞迴層[2] - /wiki/%E7%90%86%E6%9F%A5%C2%B7%E6%B3%B0%E5%8B%92_(%E6%95%B8%E5%AD%B8%E5%AE%B6) (理查·泰勒)\n",
      "遞迴層[2] - /wiki/%E6%AD%90%E6%8B%89 (歐拉)\n",
      "遞迴層[2] - /wiki/%E5%85%8B%E9%87%8C%E6%96%AF%E8%92%82%E5%AE%89%C2%B7%E5%93%A5%E5%BE%B7%E5%B7%B4%E8%B5%AB (哥德巴赫)\n",
      "遞迴層[2] - /wiki/%E8%B2%BB%E9%A6%AC (費馬)\n",
      "遞迴層[1] - /wiki/%E7%AE%97%E8%A1%93%E5%87%BD%E6%95%B8 (算術函數)\n",
      "遞迴層[2] - /wiki/%E6%95%B8%E8%AB%96 (數論)\n",
      "遞迴層[2] - /wiki/%E5%AE%9A%E4%B9%89%E5%9F%9F (定義域)\n",
      "遞迴層[2] - /wiki/%E6%95%B4%E6%95%B8 (整數)\n",
      "遞迴層[2] - /wiki/%E9%99%AA%E5%9F%9F (對應域)\n",
      "遞迴層[2] - /wiki/%E8%A4%87%E6%95%B8_(%E6%95%B8%E5%AD%B8) (複數)\n",
      "遞迴層[2] - /wiki/%E5%87%BD%E6%95%B8 (函數)\n",
      "遞迴層[2] - /wiki/%E5%BA%8F%E5%88%97 (序列)\n",
      "遞迴層[2] - /wiki/%E7%A9%8D%E6%80%A7%E5%87%BD%E6%95%B8 (積性)\n",
      "遞迴層[2] - /wiki/%E5%8A%A0%E6%80%A7%E5%87%BD%E6%95%B8 (加性函數)\n",
      "遞迴層[2] - /wiki/%E7%8B%84%E5%88%A9%E5%85%8B%E9%9B%B7%E5%8D%B7%E7%A7%AF (狄利克雷摺積)\n",
      "遞迴層[2] - /wiki/%E7%92%B0 (環)\n"
     ]
    }
   ],
   "source": [
    "# 定義爬取的遞迴深度。深度不要訂太深，否則會爬很久。\n",
    "max_recursive_depth = 2\n",
    "\n",
    "WikiArticle(root_keyword_link, input_keyword, 0)"
   ]
  },
  {
   "cell_type": "code",
   "execution_count": null,
   "metadata": {},
   "outputs": [],
   "source": []
  },
  {
   "cell_type": "code",
   "execution_count": null,
   "metadata": {},
   "outputs": [],
   "source": []
  }
 ],
 "metadata": {
  "kernelspec": {
   "display_name": "Python 3",
   "language": "python",
   "name": "python3"
  },
  "language_info": {
   "codemirror_mode": {
    "name": "ipython",
    "version": 3
   },
   "file_extension": ".py",
   "mimetype": "text/x-python",
   "name": "python",
   "nbconvert_exporter": "python",
   "pygments_lexer": "ipython3",
   "version": "3.7.9"
  }
 },
 "nbformat": 4,
 "nbformat_minor": 2
}
