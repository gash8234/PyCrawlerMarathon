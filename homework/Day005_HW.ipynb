{
 "cells": [
  {
   "cell_type": "markdown",
   "metadata": {},
   "source": [
    "# API 資料串接 - 以 Dcard API 實作範例\n",
    "\n",
    "* 了解 Dcard API 使用方式與回傳內容\n",
    "* 撰寫程式存取 API 且解析 JSON 格式資料\n"
   ]
  },
  {
   "cell_type": "markdown",
   "metadata": {},
   "source": [
    "## 作業目標\n",
    "\n",
    "* 請利用 API: https://www.dcard.tw/_api/forums/pet/posts?popular=true 回答下列問題：\n",
    "\n",
    "1. 這個 API 一次會回傳幾筆資料？每一筆資料包含哪些欄位？\n",
    "2. 取出每一筆資料的「標題」、「貼文時間」、「留言人數」、「按讚人數」\n",
    "3. 計算熱門/非熱門文章的「平均留言人數」與「平均按讚人數」"
   ]
  },
  {
   "cell_type": "code",
   "execution_count": 56,
   "metadata": {
    "scrolled": true
   },
   "outputs": [
    {
     "name": "stdout",
     "output_type": "stream",
     "text": [
      "30\n",
      "['id', 'title', 'excerpt', 'anonymousSchool', 'anonymousDepartment', 'pinned', 'forumId', 'replyId', 'createdAt', 'updatedAt', 'commentCount', 'likeCount', 'withNickname', 'tags', 'topics', 'meta', 'forumName', 'forumAlias', 'nsfw', 'gender', 'school', 'department', 'replyTitle', 'mediaMeta', 'reactions', 'hidden', 'customStyle', 'isSuspiciousAccount', 'isModerator', 'layout', 'withImages', 'withVideos', 'media', 'reportReasonText', 'excerptComments', 'postAvatar', 'verifiedBadge']\n"
     ]
    }
   ],
   "source": [
    "# 1. 這個 API 一次會回傳幾筆資料？每一筆資料包含哪些欄位？\n",
    "\n",
    "'''\n",
    "Your Code\n",
    "'''\n",
    "import requests , json\n",
    "\n",
    "r = requests.get('https://www.dcard.tw/_api/forums/pet/posts?popular=true')\n",
    "response = json.loads(r.text)\n",
    "\n",
    "print(len(response))\n",
    "\n",
    "response\n",
    "D=[]\n",
    "for data in response[1] :\n",
    "    #print(data)\n",
    "    D.append(data)\n",
    "\n",
    "print(D)"
   ]
  },
  {
   "cell_type": "code",
   "execution_count": 58,
   "metadata": {},
   "outputs": [
    {
     "name": "stdout",
     "output_type": "stream",
     "text": [
      "那隻我等了五個月的小貓咪 2020-11-04T09:57:11.728Z 69 720\n",
      "我家的小短尾 2020-11-04T16:45:15.565Z 20 443\n",
      "愛笑的ikea狗娃娃 2020-11-04T13:23:34.052Z 16 437\n",
      "脖子失蹤的喵🤭 2020-11-04T04:42:13.118Z 13 244\n",
      "#貓 我的鎖屏照片 2020-11-04T06:01:38.822Z 68 159\n",
      "第二張不要看 2020-11-04T05:23:20.330Z 17 155\n",
      "醜小貓蛻變記🤭 2020-11-04T15:23:41.781Z 16 114\n",
      "我養了一隻像狗的貓 2020-11-04T15:51:47.519Z 9 101\n",
      "養12年的松鼠得了乳腺腫瘤 2020-11-04T13:45:42.030Z 6 82\n",
      "五隻鸚鵡滿口髒話...被動物園強制分離 2020-11-05T06:34:14.311Z 4 78\n",
      "彰化朱愛媽園區30隻狗急需幫忙 2020-11-04T08:50:18.316Z 0 30\n",
      "後宮甄貓傳（圖多 2020-11-04T12:52:01.338Z 16 27\n",
      "想換貓砂 有推薦的嗎? 2020-11-05T03:39:53.332Z 8 16\n",
      "貓咪吃播 2020-11-05T01:02:57.800Z 0 13\n",
      "如何防止貓進浴室(求各種創意DIY方法或好物推薦！) 2020-11-04T14:24:33.449Z 9 10\n",
      "急徵奶貓照顧者 2020-11-04T05:00:59.705Z 0 10\n",
      "送養小狗狗 2020-11-05T08:50:07.841Z 0 9\n",
      "奶貓小時候 2020-11-04T22:02:34.995Z 0 9\n",
      "原來養了第二隻貓是這樣 2020-11-05T12:31:44.378Z 3 8\n",
      "台中大里長春路男子虐狗 2020-11-05T01:28:20.043Z 8 7\n",
      "#問 我家狗狗很挑食怎麼辦 2020-11-04T11:04:52.248Z 3 7\n",
      "貓是不是喜歡偷窺 2020-11-04T10:56:38.878Z 3 7\n",
      "宜蘭縣尋貓啟事⚠️ 2020-11-04T19:52:38.186Z 0 6\n",
      "謎之凝視 2020-11-05T12:31:08.294Z 1 5\n",
      "只是想分享我家的小可愛 2020-11-05T10:58:00.353Z 1 5\n",
      "推 👍🏻  肥滋滋的天天 2020-11-05T05:35:04.271Z 2 5\n",
      "我家的臘腸貓 2020-11-04T16:45:06.469Z 0 5\n",
      "一籃貓咪🐈 2020-11-04T15:24:46.318Z 0 5\n",
      "#分享 實用的๑書櫃兼貓跳台๑ (內有萌貓꒰⌯͒•·̫•⌯͒꒱) 2020-11-05T13:02:11.262Z 0 4\n",
      "臉很有戲的貓 2020-11-05T06:28:02.280Z 2 4\n"
     ]
    }
   ],
   "source": [
    "# 2. 取出每一筆資料的「標題」、「貼文時間」、「留言人數」、「按讚人數」\n",
    "\n",
    "'''\n",
    "Your Code\n",
    "'''\n",
    "title = []\n",
    "post_time = []\n",
    "response_count = []\n",
    "Likes = []\n",
    "for data in response :\n",
    "    print(data['title'] , data['createdAt'] , data['commentCount'] , data['likeCount'])\n",
    "    title.append(data['title'])\n",
    "    post_time.append(data['createdAt'])\n",
    "    response_count.append(data['commentCount'])\n",
    "    Likes.append(data['likeCount'])\n",
    "\n",
    "    "
   ]
  },
  {
   "cell_type": "code",
   "execution_count": 59,
   "metadata": {},
   "outputs": [
    {
     "name": "stdout",
     "output_type": "stream",
     "text": [
      "popular : average_comment = 29.500000 , average_Like = 461.000000\n",
      "unpopular : average_comment = 6.769231 , average_Like = 33.884615\n"
     ]
    }
   ],
   "source": [
    "# 3. 計算熱門/非熱門文章的「平均留言人數」與「平均按讚人數」\n",
    "\n",
    "'''\n",
    "Your Code\n",
    "'''\n",
    "count_P = 0.\n",
    "count_NP = 0.\n",
    "comment_P = 0.\n",
    "comment_NP = 0.\n",
    "like_P = 0.\n",
    "like_NP = 0.\n",
    "for data in response :\n",
    "    if data['likeCount'] >= 200 :\n",
    "        count_P+=1\n",
    "        comment_P=comment_P+data['commentCount']\n",
    "        like_P=like_P+data['likeCount']\n",
    "    else :\n",
    "        count_NP+=1\n",
    "        comment_NP=comment_NP+data['commentCount']\n",
    "        like_NP=like_NP+data['likeCount']\n",
    "\n",
    "print(\"popular : average_comment = %f , average_Like = %f\"  %(comment_P/count_P ,like_P/count_P))\n",
    "print(\"unpopular : average_comment = %f , average_Like = %f\"  %(comment_NP/count_NP ,like_NP/count_NP))\n"
   ]
  },
  {
   "cell_type": "code",
   "execution_count": null,
   "metadata": {},
   "outputs": [],
   "source": []
  },
  {
   "cell_type": "code",
   "execution_count": null,
   "metadata": {},
   "outputs": [],
   "source": []
  }
 ],
 "metadata": {
  "kernelspec": {
   "display_name": "Python 3",
   "language": "python",
   "name": "python3"
  },
  "language_info": {
   "codemirror_mode": {
    "name": "ipython",
    "version": 3
   },
   "file_extension": ".py",
   "mimetype": "text/x-python",
   "name": "python",
   "nbconvert_exporter": "python",
   "pygments_lexer": "ipython3",
   "version": "3.7.9"
  }
 },
 "nbformat": 4,
 "nbformat_minor": 2
}
